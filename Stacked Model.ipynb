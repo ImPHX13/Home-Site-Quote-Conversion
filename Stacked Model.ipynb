{
 "cells": [
  {
   "cell_type": "code",
   "execution_count": 1,
   "id": "54379f7f",
   "metadata": {},
   "outputs": [],
   "source": [
    "# Import libraries\n",
    "from vecstack import stacking\n",
    "import pandas as pd\n",
    "import numpy as np\n",
    "from sklearn.metrics import accuracy_score\n",
    "from sklearn.model_selection import train_test_split\n",
    "from sklearn.ensemble import RandomForestClassifier\n",
    "from sklearn.tree import DecisionTreeClassifier\n",
    "from sklearn.model_selection import GridSearchCV\n",
    "from sklearn.model_selection import cross_val_score\n",
    "from sklearn.metrics import classification_report, confusion_matrix\n",
    "from sklearn.neural_network import MLPClassifier\n",
    "from sklearn.neighbors import KNeighborsClassifier\n",
    "from imblearn.over_sampling import SMOTE \n",
    "from sklearn.svm import LinearSVC\n",
    "from sklearn import svm\n",
    "from collections import Counter\n",
    "\n",
    "import warnings\n",
    "warnings.filterwarnings(\"ignore\")"
   ]
  },
  {
   "cell_type": "code",
   "execution_count": 2,
   "id": "bbbcdab5",
   "metadata": {},
   "outputs": [
    {
     "name": "stdout",
     "output_type": "stream",
     "text": [
      "(65000, 596)\n",
      "(173836, 596)\n"
     ]
    }
   ],
   "source": [
    "# Loading training and testing datasets\n",
    "train = pd.read_csv('train.csv')\n",
    "test = pd.read_csv('test.csv')\n",
    "print(train.shape)\n",
    "print(test.shape)"
   ]
  },
  {
   "cell_type": "code",
   "execution_count": 3,
   "id": "f722e609",
   "metadata": {},
   "outputs": [
    {
     "name": "stdout",
     "output_type": "stream",
     "text": [
      "Non-converted quotes: 81.14 %\n",
      "Converted quotes: 18.86 %\n"
     ]
    }
   ],
   "source": [
    "# Finding out how imbalanced our dataset is\n",
    "\n",
    "TotalQuotes=train[\"QuoteConversion_Flag\"].value_counts()\n",
    "nonconverted_quotes=np.round(100*TotalQuotes[0]/(TotalQuotes[0]+TotalQuotes[1]),2)\n",
    "converted_quotes=np.round(100*TotalQuotes[1]/(TotalQuotes[0]+TotalQuotes[1]),2)\n",
    "\n",
    "print('Non-converted quotes:', nonconverted_quotes, '%')\n",
    "print('Converted quotes:', converted_quotes, '%')"
   ]
  },
  {
   "cell_type": "code",
   "execution_count": 4,
   "id": "1112609d",
   "metadata": {},
   "outputs": [
    {
     "data": {
      "text/html": [
       "<div>\n",
       "<style scoped>\n",
       "    .dataframe tbody tr th:only-of-type {\n",
       "        vertical-align: middle;\n",
       "    }\n",
       "\n",
       "    .dataframe tbody tr th {\n",
       "        vertical-align: top;\n",
       "    }\n",
       "\n",
       "    .dataframe thead th {\n",
       "        text-align: right;\n",
       "    }\n",
       "</style>\n",
       "<table border=\"1\" class=\"dataframe\">\n",
       "  <thead>\n",
       "    <tr style=\"text-align: right;\">\n",
       "      <th></th>\n",
       "      <th>CoverageField11A</th>\n",
       "      <th>CoverageField11B</th>\n",
       "      <th>CoverageField1A</th>\n",
       "      <th>CoverageField1B</th>\n",
       "      <th>CoverageField2A</th>\n",
       "      <th>CoverageField2B</th>\n",
       "      <th>CoverageField3A</th>\n",
       "      <th>CoverageField3B</th>\n",
       "      <th>CoverageField4A</th>\n",
       "      <th>CoverageField4B</th>\n",
       "      <th>...</th>\n",
       "      <th>PropertyField38_N</th>\n",
       "      <th>PropertyField38_Y</th>\n",
       "      <th>GeographicField63_</th>\n",
       "      <th>GeographicField63_N</th>\n",
       "      <th>GeographicField63_Y</th>\n",
       "      <th>GeographicField64_CA</th>\n",
       "      <th>GeographicField64_IL</th>\n",
       "      <th>GeographicField64_NJ</th>\n",
       "      <th>GeographicField64_TX</th>\n",
       "      <th>QuoteConversion_Flag</th>\n",
       "    </tr>\n",
       "  </thead>\n",
       "  <tbody>\n",
       "    <tr>\n",
       "      <th>0</th>\n",
       "      <td>13</td>\n",
       "      <td>22</td>\n",
       "      <td>4</td>\n",
       "      <td>4</td>\n",
       "      <td>4</td>\n",
       "      <td>4</td>\n",
       "      <td>3</td>\n",
       "      <td>3</td>\n",
       "      <td>3</td>\n",
       "      <td>4</td>\n",
       "      <td>...</td>\n",
       "      <td>1</td>\n",
       "      <td>0</td>\n",
       "      <td>0</td>\n",
       "      <td>0</td>\n",
       "      <td>1</td>\n",
       "      <td>0</td>\n",
       "      <td>0</td>\n",
       "      <td>0</td>\n",
       "      <td>0</td>\n",
       "      <td></td>\n",
       "    </tr>\n",
       "    <tr>\n",
       "      <th>1</th>\n",
       "      <td>4</td>\n",
       "      <td>5</td>\n",
       "      <td>8</td>\n",
       "      <td>14</td>\n",
       "      <td>8</td>\n",
       "      <td>14</td>\n",
       "      <td>7</td>\n",
       "      <td>12</td>\n",
       "      <td>8</td>\n",
       "      <td>13</td>\n",
       "      <td>...</td>\n",
       "      <td>1</td>\n",
       "      <td>0</td>\n",
       "      <td>0</td>\n",
       "      <td>1</td>\n",
       "      <td>0</td>\n",
       "      <td>0</td>\n",
       "      <td>0</td>\n",
       "      <td>0</td>\n",
       "      <td>0</td>\n",
       "      <td></td>\n",
       "    </tr>\n",
       "    <tr>\n",
       "      <th>2</th>\n",
       "      <td>3</td>\n",
       "      <td>3</td>\n",
       "      <td>11</td>\n",
       "      <td>18</td>\n",
       "      <td>11</td>\n",
       "      <td>18</td>\n",
       "      <td>10</td>\n",
       "      <td>16</td>\n",
       "      <td>10</td>\n",
       "      <td>18</td>\n",
       "      <td>...</td>\n",
       "      <td>1</td>\n",
       "      <td>0</td>\n",
       "      <td>0</td>\n",
       "      <td>1</td>\n",
       "      <td>0</td>\n",
       "      <td>0</td>\n",
       "      <td>0</td>\n",
       "      <td>0</td>\n",
       "      <td>0</td>\n",
       "      <td></td>\n",
       "    </tr>\n",
       "    <tr>\n",
       "      <th>3</th>\n",
       "      <td>5</td>\n",
       "      <td>9</td>\n",
       "      <td>14</td>\n",
       "      <td>22</td>\n",
       "      <td>15</td>\n",
       "      <td>22</td>\n",
       "      <td>13</td>\n",
       "      <td>20</td>\n",
       "      <td>22</td>\n",
       "      <td>25</td>\n",
       "      <td>...</td>\n",
       "      <td>1</td>\n",
       "      <td>0</td>\n",
       "      <td>0</td>\n",
       "      <td>1</td>\n",
       "      <td>0</td>\n",
       "      <td>0</td>\n",
       "      <td>0</td>\n",
       "      <td>0</td>\n",
       "      <td>0</td>\n",
       "      <td></td>\n",
       "    </tr>\n",
       "    <tr>\n",
       "      <th>4</th>\n",
       "      <td>12</td>\n",
       "      <td>21</td>\n",
       "      <td>4</td>\n",
       "      <td>5</td>\n",
       "      <td>4</td>\n",
       "      <td>5</td>\n",
       "      <td>4</td>\n",
       "      <td>4</td>\n",
       "      <td>4</td>\n",
       "      <td>5</td>\n",
       "      <td>...</td>\n",
       "      <td>1</td>\n",
       "      <td>0</td>\n",
       "      <td>0</td>\n",
       "      <td>1</td>\n",
       "      <td>0</td>\n",
       "      <td>0</td>\n",
       "      <td>0</td>\n",
       "      <td>0</td>\n",
       "      <td>0</td>\n",
       "      <td></td>\n",
       "    </tr>\n",
       "  </tbody>\n",
       "</table>\n",
       "<p>5 rows × 596 columns</p>\n",
       "</div>"
      ],
      "text/plain": [
       "   CoverageField11A  CoverageField11B  CoverageField1A  CoverageField1B  \\\n",
       "0                13                22                4                4   \n",
       "1                 4                 5                8               14   \n",
       "2                 3                 3               11               18   \n",
       "3                 5                 9               14               22   \n",
       "4                12                21                4                5   \n",
       "\n",
       "   CoverageField2A  CoverageField2B  CoverageField3A  CoverageField3B  \\\n",
       "0                4                4                3                3   \n",
       "1                8               14                7               12   \n",
       "2               11               18               10               16   \n",
       "3               15               22               13               20   \n",
       "4                4                5                4                4   \n",
       "\n",
       "   CoverageField4A  CoverageField4B  ...  PropertyField38_N  \\\n",
       "0                3                4  ...                  1   \n",
       "1                8               13  ...                  1   \n",
       "2               10               18  ...                  1   \n",
       "3               22               25  ...                  1   \n",
       "4                4                5  ...                  1   \n",
       "\n",
       "   PropertyField38_Y  GeographicField63_   GeographicField63_N  \\\n",
       "0                  0                    0                    0   \n",
       "1                  0                    0                    1   \n",
       "2                  0                    0                    1   \n",
       "3                  0                    0                    1   \n",
       "4                  0                    0                    1   \n",
       "\n",
       "   GeographicField63_Y  GeographicField64_CA  GeographicField64_IL  \\\n",
       "0                    1                     0                     0   \n",
       "1                    0                     0                     0   \n",
       "2                    0                     0                     0   \n",
       "3                    0                     0                     0   \n",
       "4                    0                     0                     0   \n",
       "\n",
       "   GeographicField64_NJ  GeographicField64_TX  QuoteConversion_Flag  \n",
       "0                     0                     0                        \n",
       "1                     0                     0                        \n",
       "2                     0                     0                        \n",
       "3                     0                     0                        \n",
       "4                     0                     0                        \n",
       "\n",
       "[5 rows x 596 columns]"
      ]
     },
     "execution_count": 4,
     "metadata": {},
     "output_type": "execute_result"
    }
   ],
   "source": [
    "# Deleting categorical variable that's not present in training dataset\n",
    "del test['GeographicField64']\n",
    "test.head()\n",
    "\n",
    "# Adding the Quote Conversion column to testing dataset for predictions\n",
    "test['QuoteConversion_Flag'] = \"\"\n",
    "\n",
    "test.head()"
   ]
  },
  {
   "cell_type": "code",
   "execution_count": 5,
   "id": "53e0ecfe",
   "metadata": {},
   "outputs": [],
   "source": [
    "# Splitting the datasets\n",
    "XTrain = train[train.columns.difference(['QuoteConversion_Flag'])]\n",
    "XTest = test[test.columns.difference(['QuoteConversion_Flag'])]\n",
    "YTrain = train[\"QuoteConversion_Flag\"]\n",
    "\n",
    "X_Train, X_Test, Y_Train, Y_Test = train_test_split(XTrain, YTrain, test_size=0.2, random_state=42)"
   ]
  },
  {
   "cell_type": "code",
   "execution_count": 6,
   "id": "3bacda3d",
   "metadata": {},
   "outputs": [
    {
     "name": "stdout",
     "output_type": "stream",
     "text": [
      "Original dataset shape Counter({0: 42183, 1: 9817})\n",
      "Resampled dataset shape Counter({0: 42183, 1: 21091})\n"
     ]
    }
   ],
   "source": [
    "# Using SMOTE to overcome class imbalance in our dataset\n",
    "print('Original dataset shape %s' % Counter(Y_Train))\n",
    "sm = SMOTE(random_state=42, sampling_strategy=0.5)\n",
    "X_res, y_res = sm.fit_resample(X_Train, Y_Train)\n",
    "print('Resampled dataset shape %s' % Counter(y_res))"
   ]
  },
  {
   "cell_type": "code",
   "execution_count": 7,
   "id": "e76665a8",
   "metadata": {},
   "outputs": [
    {
     "name": "stdout",
     "output_type": "stream",
     "text": [
      "Decision Tree Accuracy:0.884615\n",
      "Confusion Matrix - Decision Tree\n",
      "[[9750  805]\n",
      " [ 695 1750]]\n",
      "Classification Report\n",
      "              precision    recall  f1-score   support\n",
      "\n",
      "           0       0.93      0.92      0.93     10555\n",
      "           1       0.68      0.72      0.70      2445\n",
      "\n",
      "    accuracy                           0.88     13000\n",
      "   macro avg       0.81      0.82      0.81     13000\n",
      "weighted avg       0.89      0.88      0.89     13000\n",
      "\n"
     ]
    }
   ],
   "source": [
    "# Decision Tree Classifier after SMOTE\n",
    "dt = DecisionTreeClassifier()\n",
    "dt.fit(X_res, y_res)\n",
    "dt_predict=dt.predict(X_Test)\n",
    "print(\"Decision Tree Accuracy:{0:6f}\".format(dt.score(X_Test,Y_Test)))  \n",
    "print(\"Confusion Matrix - Decision Tree\")\n",
    "print(confusion_matrix(Y_Test,dt_predict))\n",
    "print(\"Classification Report\")\n",
    "print(classification_report(Y_Test,dt_predict))"
   ]
  },
  {
   "cell_type": "code",
   "execution_count": 8,
   "id": "27b2cb6c",
   "metadata": {},
   "outputs": [
    {
     "name": "stdout",
     "output_type": "stream",
     "text": [
      "0    120836\n",
      "1     53000\n",
      "Name: QuoteConversion_Flag, dtype: int64\n"
     ]
    }
   ],
   "source": [
    "# Preparing decision tree submission file for kaggle\n",
    "dt_predict=dt.predict(XTest)\n",
    "dt_prediction = pd.DataFrame({\"QuoteNumber\":XTest['QuoteNumber'],\"QuoteConversion_Flag\":dt_predict})  \n",
    "print(dt_prediction['QuoteConversion_Flag'].value_counts())\n",
    "dt_prediction.to_csv('DecisionTree_Submission.csv', index=False)"
   ]
  },
  {
   "cell_type": "code",
   "execution_count": 9,
   "id": "8e36899c",
   "metadata": {},
   "outputs": [
    {
     "name": "stdout",
     "output_type": "stream",
     "text": [
      "Random Forest Accuracy:0.906154\n",
      "Confusion Matrix for Random Forest:\n",
      "[[10225   330]\n",
      " [  890  1555]]\n",
      "Classification Report\n",
      "              precision    recall  f1-score   support\n",
      "\n",
      "           0       0.92      0.97      0.94     10555\n",
      "           1       0.82      0.64      0.72      2445\n",
      "\n",
      "    accuracy                           0.91     13000\n",
      "   macro avg       0.87      0.80      0.83     13000\n",
      "weighted avg       0.90      0.91      0.90     13000\n",
      "\n"
     ]
    }
   ],
   "source": [
    "# Random Forest Classifier after SMOTE\n",
    "rfc = RandomForestClassifier()\n",
    "rfc.fit(X_res, y_res)\n",
    "rfc_predict=rfc.predict(X_Test)\n",
    "print(\"Random Forest Accuracy:{0:6f}\".format(rfc.score(X_Test,Y_Test)))\n",
    "print(\"Confusion Matrix for Random Forest:\")\n",
    "print(confusion_matrix(Y_Test,rfc_predict))\n",
    "print(\"Classification Report\")\n",
    "print(classification_report(Y_Test,rfc_predict))"
   ]
  },
  {
   "cell_type": "code",
   "execution_count": 10,
   "id": "ea49b45b",
   "metadata": {},
   "outputs": [
    {
     "name": "stdout",
     "output_type": "stream",
     "text": [
      "0    144559\n",
      "1     29277\n",
      "Name: QuoteConversion_Flag, dtype: int64\n"
     ]
    }
   ],
   "source": [
    "# Preparing random forest submission file for kaggle\n",
    "rfc_predict=rfc.predict(XTest)\n",
    "rf_prediction = pd.DataFrame({\"QuoteNumber\":XTest['QuoteNumber'],\"QuoteConversion_Flag\":rfc_predict})  \n",
    "print(rf_prediction['QuoteConversion_Flag'].value_counts())\n",
    "rf_prediction.to_csv('RandomForest_Submission.csv', index=False)"
   ]
  },
  {
   "cell_type": "code",
   "execution_count": 11,
   "id": "a534faa0",
   "metadata": {},
   "outputs": [
    {
     "name": "stdout",
     "output_type": "stream",
     "text": [
      "Multi Layer Perceptron Accuracy:0.713538\n",
      "Confusion Matrix for Multilayer Perceptron:\n",
      "[[7096 3459]\n",
      " [ 265 2180]]\n",
      "Classification Report\n",
      "              precision    recall  f1-score   support\n",
      "\n",
      "           0       0.96      0.67      0.79     10555\n",
      "           1       0.39      0.89      0.54      2445\n",
      "\n",
      "    accuracy                           0.71     13000\n",
      "   macro avg       0.68      0.78      0.67     13000\n",
      "weighted avg       0.86      0.71      0.74     13000\n",
      "\n"
     ]
    }
   ],
   "source": [
    "# Multi Layer Perceptron Classifier after SMOTE\n",
    "mlp = MLPClassifier()\n",
    "mlp.fit(X_res, y_res)\n",
    "mlp_predict=mlp.predict(X_Test)\n",
    "print(\"Multi Layer Perceptron Accuracy:{0:6f}\".format(mlp.score(X_Test,Y_Test)))\n",
    "print(\"Confusion Matrix for Multilayer Perceptron:\")\n",
    "print(confusion_matrix(Y_Test,mlp_predict))\n",
    "print(\"Classification Report\")\n",
    "print(classification_report(Y_Test,mlp_predict))"
   ]
  },
  {
   "cell_type": "code",
   "execution_count": 12,
   "id": "f7b09f87",
   "metadata": {},
   "outputs": [
    {
     "name": "stdout",
     "output_type": "stream",
     "text": [
      "1    140493\n",
      "0     33343\n",
      "Name: QuoteConversion_Flag, dtype: int64\n"
     ]
    }
   ],
   "source": [
    "# Preparing MLP submission file for kaggle\n",
    "mlp_predict=mlp.predict(XTest)\n",
    "mlp_prediction = pd.DataFrame({\"QuoteNumber\":XTest['QuoteNumber'],\"QuoteConversion_Flag\":mlp_predict})  \n",
    "print(mlp_prediction['QuoteConversion_Flag'].value_counts())\n",
    "dt_prediction.to_csv('MultiLayerPerceptron_Submission.csv', index=False)"
   ]
  },
  {
   "cell_type": "code",
   "execution_count": 13,
   "id": "3b644964",
   "metadata": {},
   "outputs": [
    {
     "name": "stdout",
     "output_type": "stream",
     "text": [
      "Support Vector Machine Accuracy:0.811538:0.811538\n",
      "Confusion Matrix for Support Vector Machines:\n",
      "[[10524    31]\n",
      " [ 2419    26]]\n",
      "Classification Report\n",
      "              precision    recall  f1-score   support\n",
      "\n",
      "           0       0.81      1.00      0.90     10555\n",
      "           1       0.46      0.01      0.02      2445\n",
      "\n",
      "    accuracy                           0.81     13000\n",
      "   macro avg       0.63      0.50      0.46     13000\n",
      "weighted avg       0.75      0.81      0.73     13000\n",
      "\n"
     ]
    }
   ],
   "source": [
    "# Support Vector Machine Classifier after SMOTE\n",
    "svc = LinearSVC()\n",
    "svc.fit(X_res, y_res)\n",
    "svc_predict=svc.predict(X_Test)\n",
    "print(\"Support Vector Machine Accuracy:{0:6f}:{0:6f}\".format(svc.score(X_Test,Y_Test)))\n",
    "print(\"Confusion Matrix for Support Vector Machines:\")\n",
    "print(confusion_matrix(Y_Test,svc_predict))\n",
    "print(\"Classification Report\")\n",
    "print(classification_report(Y_Test,svc_predict))"
   ]
  },
  {
   "cell_type": "code",
   "execution_count": 14,
   "id": "3fad7239",
   "metadata": {},
   "outputs": [
    {
     "name": "stdout",
     "output_type": "stream",
     "text": [
      "0    173700\n",
      "1       136\n",
      "Name: QuoteConversion_Flag, dtype: int64\n"
     ]
    }
   ],
   "source": [
    "# Preparing SVM submission file for kaggle\n",
    "svm_predict=svc.predict(XTest)\n",
    "svm_prediction = pd.DataFrame({\"QuoteNumber\":XTest['QuoteNumber'],\"QuoteConversion_Flag\":svm_predict})  \n",
    "print(svm_prediction['QuoteConversion_Flag'].value_counts())\n",
    "dt_prediction.to_csv('SVM_Submission.csv', index=False)"
   ]
  },
  {
   "cell_type": "code",
   "execution_count": 15,
   "id": "ef966e81",
   "metadata": {},
   "outputs": [
    {
     "name": "stdout",
     "output_type": "stream",
     "text": [
      "K Nearest Neighbor Accuracy:0.677077\n",
      "Confusion Matrix for K Nearest Neighbors:\n",
      "[[8179 2376]\n",
      " [1822  623]]\n",
      "Classification Report\n",
      "              precision    recall  f1-score   support\n",
      "\n",
      "           0       0.82      0.77      0.80     10555\n",
      "           1       0.21      0.25      0.23      2445\n",
      "\n",
      "    accuracy                           0.68     13000\n",
      "   macro avg       0.51      0.51      0.51     13000\n",
      "weighted avg       0.70      0.68      0.69     13000\n",
      "\n"
     ]
    }
   ],
   "source": [
    "# K Nearest Neighbor Classifier after SMOTE\n",
    "knn = KNeighborsClassifier()\n",
    "knn.fit(X_res, y_res)\n",
    "knn_predict = knn.predict(X_Test)\n",
    "print(\"K Nearest Neighbor Accuracy:{0:6f}\".format(knn.score(X_Test,Y_Test)))\n",
    "print(\"Confusion Matrix for K Nearest Neighbors:\")\n",
    "print(confusion_matrix(Y_Test,knn_predict))\n",
    "print(\"Classification Report\")\n",
    "print(classification_report(Y_Test,knn_predict))"
   ]
  },
  {
   "cell_type": "code",
   "execution_count": 16,
   "id": "865fde7b",
   "metadata": {},
   "outputs": [
    {
     "name": "stdout",
     "output_type": "stream",
     "text": [
      "0    139765\n",
      "1     34071\n",
      "Name: QuoteConversion_Flag, dtype: int64\n"
     ]
    }
   ],
   "source": [
    "# Preparing KNN submission file for kaggle\n",
    "knn_predict=knn.predict(XTest)\n",
    "knn_prediction = pd.DataFrame({\"QuoteNumber\":XTest['QuoteNumber'],\"QuoteConversion_Flag\":knn_predict})  \n",
    "print(knn_prediction['QuoteConversion_Flag'].value_counts())\n",
    "knn_prediction.to_csv('KNN_Submission.csv', index=False)"
   ]
  },
  {
   "cell_type": "code",
   "execution_count": 17,
   "id": "bf32436b",
   "metadata": {},
   "outputs": [
    {
     "name": "stdout",
     "output_type": "stream",
     "text": [
      "task:         [classification]\n",
      "n_classes:    [2]\n",
      "metric:       [accuracy_score]\n",
      "mode:         [oof_pred_bag]\n",
      "n_models:     [5]\n",
      "\n",
      "model  0:     [MLPClassifier]\n",
      "    fold  0:  [0.75333460]\n",
      "    fold  1:  [0.75731715]\n",
      "    fold  2:  [0.73732457]\n",
      "    fold  3:  [0.72272095]\n",
      "    ----\n",
      "    MEAN:     [0.74267432] + [0.01373691]\n",
      "    FULL:     [0.74267472]\n",
      "\n",
      "model  1:     [RandomForestClassifier]\n",
      "    fold  0:  [0.91782034]\n",
      "    fold  1:  [0.92382578]\n",
      "    fold  2:  [0.92167151]\n",
      "    fold  3:  [0.91876343]\n",
      "    ----\n",
      "    MEAN:     [0.92052027] + [0.00237844]\n",
      "    FULL:     [0.92052028]\n",
      "\n",
      "model  2:     [DecisionTreeClassifier]\n",
      "    fold  0:  [0.89285037]\n",
      "    fold  1:  [0.89778115]\n",
      "    fold  2:  [0.89638387]\n",
      "    fold  3:  [0.89474017]\n",
      "    ----\n",
      "    MEAN:     [0.89543889] + [0.00184173]\n",
      "    FULL:     [0.89543888]\n",
      "\n",
      "model  3:     [KNeighborsClassifier]\n",
      "    fold  0:  [0.69498704]\n",
      "    fold  1:  [0.69283773]\n",
      "    fold  2:  [0.69692755]\n",
      "    fold  3:  [0.69541029]\n",
      "    ----\n",
      "    MEAN:     [0.69504065] + [0.00146226]\n",
      "    FULL:     [0.69504062]\n",
      "\n",
      "model  4:     [LinearSVC]\n",
      "    fold  0:  [0.56280422]\n",
      "    fold  1:  [0.38814084]\n",
      "    fold  2:  [0.66550765]\n",
      "    fold  3:  [0.47515489]\n",
      "    ----\n",
      "    MEAN:     [0.52290190] + [0.10291855]\n",
      "    FULL:     [0.52290040]\n",
      "\n"
     ]
    }
   ],
   "source": [
    "# Stacking the models built so far\n",
    "\n",
    "models = [ MLPClassifier(), RandomForestClassifier(), DecisionTreeClassifier(), KNeighborsClassifier(), LinearSVC()]\n",
    "      \n",
    "S_Train, S_Test = stacking(models,                   \n",
    "                           X_res, y_res, X_Test,   \n",
    "                           regression=False, \n",
    "     \n",
    "                           mode='oof_pred_bag', \n",
    "       \n",
    "                           needs_proba=False,\n",
    "         \n",
    "                           save_dir=None, \n",
    "            \n",
    "                           metric=accuracy_score, \n",
    "    \n",
    "                           n_folds=4, \n",
    "                 \n",
    "                           stratified=True,\n",
    "            \n",
    "                           shuffle=True,  \n",
    "            \n",
    "                           random_state=0,    \n",
    "         \n",
    "                           verbose=2)"
   ]
  },
  {
   "cell_type": "code",
   "execution_count": 18,
   "id": "a45d5031",
   "metadata": {},
   "outputs": [
    {
     "name": "stdout",
     "output_type": "stream",
     "text": [
      "Accuracy:{0.90438462}\n",
      "Confusion Matrix after STACKING for RF:\n",
      "[[10309   246]\n",
      " [  997  1448]]\n",
      "Classification Report\n",
      "              precision    recall  f1-score   support\n",
      "\n",
      "           0       0.91      0.98      0.94     10555\n",
      "           1       0.85      0.59      0.70      2445\n",
      "\n",
      "    accuracy                           0.90     13000\n",
      "   macro avg       0.88      0.78      0.82     13000\n",
      "weighted avg       0.90      0.90      0.90     13000\n",
      "\n"
     ]
    }
   ],
   "source": [
    "# Building Random Forest stacked model\n",
    "model = RandomForestClassifier()\n",
    "    \n",
    "model = model.fit(S_Train, y_res)\n",
    "y_pred = model.predict(S_Test)\n",
    "print('Accuracy:{%.8f}' % accuracy_score(Y_Test, y_pred))\n",
    "print(\"Confusion Matrix after STACKING for RF:\")\n",
    "print(confusion_matrix(Y_Test,y_pred))\n",
    "print(\"Classification Report\")\n",
    "print(classification_report(Y_Test,y_pred))"
   ]
  },
  {
   "cell_type": "code",
   "execution_count": 19,
   "id": "2dd36828",
   "metadata": {},
   "outputs": [
    {
     "name": "stdout",
     "output_type": "stream",
     "text": [
      "accuracy Score:0.908923\n",
      "Confusion Matrix:\n",
      "[[10368   187]\n",
      " [  997  1448]]\n",
      "Classification Report\n",
      "              precision    recall  f1-score   support\n",
      "\n",
      "           0       0.91      0.98      0.95     10555\n",
      "           1       0.89      0.59      0.71      2445\n",
      "\n",
      "    accuracy                           0.91     13000\n",
      "   macro avg       0.90      0.79      0.83     13000\n",
      "weighted avg       0.91      0.91      0.90     13000\n",
      "\n",
      "{'max_depth': 5, 'min_samples_split': 100, 'n_estimators': 10}\n"
     ]
    }
   ],
   "source": [
    "# Hyperparameter tuning for random forest stacked model using random search\n",
    "rand_param={'max_depth': range(5,15,2),\n",
    "                 'n_estimators':[10,25,50,100], 'min_samples_split': [10,100,10]}\n",
    "\n",
    "rf1 = RandomForestClassifier()\n",
    "rf1.fit(X_Train, Y_Train)\n",
    "rf1_predict=rf1.predict(X_Test)\n",
    "print(\"accuracy Score:{0:6f}\".format(rf1.score(X_Test,Y_Test)))\n",
    "print(\"Confusion Matrix:\")\n",
    "print(confusion_matrix(Y_Test,rf1_predict))\n",
    "print(\"Classification Report\")\n",
    "print(classification_report(Y_Test,rf1_predict))\n",
    "\n",
    "rf1_grid = GridSearchCV(rf,rand_param,cv=5)\n",
    "rf1_grid.fit(X_Train, Y_Train)\n",
    "grid_param_rf1=rf1_grid.best_params_\n",
    "print(grid_param_rf1)\n",
    "\n",
    "model1 = RandomForestClassifier(**grid_param_rf1)\n",
    "model1.fit(S_Train, y_res)\n",
    "Test_Prediction = model1.predict(S_Test)\n",
    "\n",
    "# Preparing stacked model submission file for kaggle\n",
    "Test_Prediction = model1.predict(S_Test)\n",
    "Prediction = pd.DataFrame({\"QuoteNumber\":XTest['QuoteNumber'],\"QuoteConversion_Flag\":Test_Prediction})  \n",
    "\n",
    "print(Prediction['QuoteConversion_Flag'].value_counts())\n",
    "Prediction.to_csv('StackedRF_Submission.csv', index=False)"
   ]
  }
 ],
 "metadata": {
  "kernelspec": {
   "display_name": "Python 3 (ipykernel)",
   "language": "python",
   "name": "python3"
  },
  "language_info": {
   "codemirror_mode": {
    "name": "ipython",
    "version": 3
   },
   "file_extension": ".py",
   "mimetype": "text/x-python",
   "name": "python",
   "nbconvert_exporter": "python",
   "pygments_lexer": "ipython3",
   "version": "3.9.12"
  }
 },
 "nbformat": 4,
 "nbformat_minor": 5
}
